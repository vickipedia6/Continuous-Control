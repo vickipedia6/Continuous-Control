{
 "cells": [
  {
   "cell_type": "markdown",
   "metadata": {},
   "source": [
    "# Continuous Control\n",
    "\n",
    "---\n",
    "\n",
    "You are welcome to use this coding environment to train your agent for the project.  Follow the instructions below to get started!\n",
    "\n",
    "### 1. Start the Environment\n",
    "\n",
    "Run the next code cell to install a few packages.  This line will take a few minutes to run!"
   ]
  },
  {
   "cell_type": "code",
   "execution_count": 1,
   "metadata": {},
   "outputs": [
    {
     "name": "stdout",
     "output_type": "stream",
     "text": [
      "\u001b[31mtensorflow 1.7.1 has requirement numpy>=1.13.3, but you'll have numpy 1.12.1 which is incompatible.\u001b[0m\r\n",
      "\u001b[31mipython 6.5.0 has requirement prompt-toolkit<2.0.0,>=1.0.15, but you'll have prompt-toolkit 2.0.10 which is incompatible.\u001b[0m\r\n"
     ]
    }
   ],
   "source": [
    "!pip -q install ./python"
   ]
  },
  {
   "cell_type": "markdown",
   "metadata": {},
   "source": [
    "The environments corresponding to both versions of the environment are already saved in the Workspace and can be accessed at the file paths provided below.  \n",
    "\n",
    "Please select one of the two options below for loading the environment."
   ]
  },
  {
   "cell_type": "code",
   "execution_count": 2,
   "metadata": {},
   "outputs": [
    {
     "name": "stderr",
     "output_type": "stream",
     "text": [
      "INFO:unityagents:\n",
      "'Academy' started successfully!\n",
      "Unity Academy name: Academy\n",
      "        Number of Brains: 1\n",
      "        Number of External Brains : 1\n",
      "        Lesson number : 0\n",
      "        Reset Parameters :\n",
      "\t\tgoal_speed -> 1.0\n",
      "\t\tgoal_size -> 5.0\n",
      "Unity brain name: ReacherBrain\n",
      "        Number of Visual Observations (per agent): 0\n",
      "        Vector Observation space type: continuous\n",
      "        Vector Observation space size (per agent): 33\n",
      "        Number of stacked Vector Observation: 1\n",
      "        Vector Action space type: continuous\n",
      "        Vector Action space size (per agent): 4\n",
      "        Vector Action descriptions: , , , \n"
     ]
    }
   ],
   "source": [
    "from unityagents import UnityEnvironment\n",
    "import numpy as np\n",
    "\n",
    "# select this option to load version 1 (with a single agent) of the environment\n",
    "#env = UnityEnvironment(file_name='/home/workspace/Reacher_Windows_x86_64/Reacher.exe')\n",
    "\n",
    "# select this option to load version 2 (with 20 agents) of the environment\n",
    "env = UnityEnvironment(file_name='/data/Reacher_Linux_NoVis/Reacher.x86_64')"
   ]
  },
  {
   "cell_type": "code",
   "execution_count": 3,
   "metadata": {},
   "outputs": [
    {
     "data": {
      "text/plain": [
       "'/home/workspace'"
      ]
     },
     "execution_count": 3,
     "metadata": {},
     "output_type": "execute_result"
    }
   ],
   "source": [
    "pwd()"
   ]
  },
  {
   "cell_type": "markdown",
   "metadata": {},
   "source": [
    "Environments contain **_brains_** which are responsible for deciding the actions of their associated agents. Here we check for the first brain available, and set it as the default brain we will be controlling from Python."
   ]
  },
  {
   "cell_type": "code",
   "execution_count": 3,
   "metadata": {},
   "outputs": [],
   "source": [
    "# get the default brain\n",
    "brain_name = env.brain_names[0]\n",
    "brain = env.brains[brain_name]"
   ]
  },
  {
   "cell_type": "markdown",
   "metadata": {},
   "source": [
    "### 2. Examine the State and Action Spaces\n",
    "\n",
    "Run the code cell below to print some information about the environment."
   ]
  },
  {
   "cell_type": "code",
   "execution_count": 4,
   "metadata": {},
   "outputs": [
    {
     "name": "stdout",
     "output_type": "stream",
     "text": [
      "Number of agents: 20\n",
      "Size of each action: 4\n",
      "There are 20 agents. Each observes a state with length: 33\n",
      "The state for the first agent looks like: [  0.00000000e+00  -4.00000000e+00   0.00000000e+00   1.00000000e+00\n",
      "  -0.00000000e+00  -0.00000000e+00  -4.37113883e-08   0.00000000e+00\n",
      "   0.00000000e+00   0.00000000e+00   0.00000000e+00   0.00000000e+00\n",
      "   0.00000000e+00   0.00000000e+00  -1.00000000e+01   0.00000000e+00\n",
      "   1.00000000e+00  -0.00000000e+00  -0.00000000e+00  -4.37113883e-08\n",
      "   0.00000000e+00   0.00000000e+00   0.00000000e+00   0.00000000e+00\n",
      "   0.00000000e+00   0.00000000e+00   5.75471878e+00  -1.00000000e+00\n",
      "   5.55726624e+00   0.00000000e+00   1.00000000e+00   0.00000000e+00\n",
      "  -1.68164849e-01]\n"
     ]
    }
   ],
   "source": [
    "# reset the environment\n",
    "env_info = env.reset(train_mode=True)[brain_name]\n",
    "\n",
    "# number of agents\n",
    "num_agents = len(env_info.agents)\n",
    "print('Number of agents:', num_agents)\n",
    "\n",
    "# size of each action\n",
    "action_size = brain.vector_action_space_size\n",
    "print('Size of each action:', action_size)\n",
    "\n",
    "# examine the state space \n",
    "states = env_info.vector_observations\n",
    "state_size = states.shape[1]\n",
    "print('There are {} agents. Each observes a state with length: {}'.format(states.shape[0], state_size))\n",
    "print('The state for the first agent looks like:', states[0])"
   ]
  },
  {
   "cell_type": "markdown",
   "metadata": {},
   "source": [
    "### 3. Take Random Actions in the Environment\n",
    "\n",
    "In the next code cell, you will learn how to use the Python API to control the agent and receive feedback from the environment.\n",
    "\n",
    "Note that **in this coding environment, you will not be able to watch the agents while they are training**, and you should set `train_mode=True` to restart the environment."
   ]
  },
  {
   "cell_type": "code",
   "execution_count": 5,
   "metadata": {},
   "outputs": [
    {
     "name": "stdout",
     "output_type": "stream",
     "text": [
      "Total score (averaged over agents) this episode: 0.1834999958984554\n"
     ]
    }
   ],
   "source": [
    "env_info = env.reset(train_mode=True)[brain_name]      # reset the environment    \n",
    "states = env_info.vector_observations                  # get the current state (for each agent)\n",
    "scores = np.zeros(num_agents)                          # initialize the score (for each agent)\n",
    "while True:\n",
    "    actions = np.random.randn(num_agents, action_size) # select an action (for each agent)\n",
    "    actions = np.clip(actions, -1, 1)                  # all actions between -1 and 1\n",
    "    env_info = env.step(actions)[brain_name]           # send all actions to tne environment\n",
    "    next_states = env_info.vector_observations         # get next state (for each agent)\n",
    "    rewards = env_info.rewards                         # get reward (for each agent)\n",
    "    dones = env_info.local_done                        # see if episode finished\n",
    "    scores += env_info.rewards                         # update the score (for each agent)\n",
    "    states = next_states                               # roll over states to next time step\n",
    "    if np.any(dones):                                  # exit loop if episode finished\n",
    "        break\n",
    "print('Total score (averaged over agents) this episode: {}'.format(np.mean(scores)))"
   ]
  },
  {
   "cell_type": "markdown",
   "metadata": {},
   "source": [
    "When finished, you can close the environment."
   ]
  },
  {
   "cell_type": "code",
   "execution_count": 7,
   "metadata": {},
   "outputs": [],
   "source": [
    "#env.close()"
   ]
  },
  {
   "cell_type": "markdown",
   "metadata": {},
   "source": [
    "### 4. It's Your Turn!\n",
    "\n",
    "Now it's your turn to train your own agent to solve the environment!  A few **important notes**:\n",
    "- When training the environment, set `train_mode=True`, so that the line for resetting the environment looks like the following:\n",
    "```python\n",
    "env_info = env.reset(train_mode=True)[brain_name]\n",
    "```\n",
    "- To structure your work, you're welcome to work directly in this Jupyter notebook, or you might like to start over with a new file!  You can see the list of files in the workspace by clicking on **_Jupyter_** in the top left corner of the notebook.\n",
    "- In this coding environment, you will not be able to watch the agents while they are training.  However, **_after training the agents_**, you can download the saved model weights to watch the agents on your own machine! "
   ]
  },
  {
   "cell_type": "code",
   "execution_count": 6,
   "metadata": {},
   "outputs": [
    {
     "name": "stdout",
     "output_type": "stream",
     "text": [
      "using device: cuda:0\n"
     ]
    }
   ],
   "source": [
    "from agent import Agent\n",
    "\n",
    "agent = Agent(state_size, action_size, 0, num_agents)"
   ]
  },
  {
   "cell_type": "code",
   "execution_count": 8,
   "metadata": {},
   "outputs": [],
   "source": [
    "import torch\n",
    "from collections import deque\n",
    "\n",
    "def train(n_episodes=2000, max_t=1000, train=True):\n",
    "    scores_deque = deque(maxlen=100)\n",
    "    scores = []\n",
    "    avg_scores=[]\n",
    "    \n",
    "    for i_episode in range(1, n_episodes + 1):\n",
    "        env_info = env.reset(train_mode=train)[brain_name]      \n",
    "        states = env_info.vector_observations\n",
    "        agent.reset()\n",
    "        score = np.zeros(num_agents)\n",
    "        \n",
    "        for i in range(max_t):\n",
    "                actions = agent.act(states)                        \n",
    "                env_info = env.step(actions)[brain_name]           \n",
    "                next_states = env_info.vector_observations         \n",
    "                rewards = env_info.rewards                         \n",
    "                dones = env_info.local_done                        \n",
    "                agent.step(states, actions, rewards, next_states, dones)\n",
    "                score += rewards                                   \n",
    "                states = next_states                               \n",
    "                if np.any(dones):                                  \n",
    "                    break \n",
    "        \n",
    "        scores_deque.append(np.mean(score))\n",
    "        avg_score = np.mean(scores_deque)\n",
    "        avg_scores.append(avg_score)\n",
    "        print('\\nEpisode {}\\tAverage Score: {:.3f}'.format(i_episode,avg_score), end=\"\")\n",
    "        if avg_score > 30:\n",
    "            torch.save(agent.actor_local.state_dict(), 'actor.pth')\n",
    "            torch.save(agent.critic_local.state_dict(), 'critic.pth')\n",
    "            print('\\nEnvironment solved in {:d} episodes wakanda forever :)'.format(i_episode))\n",
    "            break\n",
    "            \n",
    "    return avg_scores"
   ]
  },
  {
   "cell_type": "code",
   "execution_count": 7,
   "metadata": {},
   "outputs": [
    {
     "data": {
      "text/plain": [
       "OrderedDict([('fcs1.weight', tensor(1.00000e-02 *\n",
       "                     [[-4.5317, -3.1814, -4.3384,  ..., -4.4679,  4.6098,  4.9767],\n",
       "                      [ 5.1842, -0.2040, -5.3524,  ..., -5.5674, -0.0718, -4.9956],\n",
       "                      [-3.8504, -4.9658,  3.9621,  ...,  4.2240, -4.7264, -3.2116],\n",
       "                      ...,\n",
       "                      [ 5.8681,  5.6735, -1.0979,  ...,  4.2846,  2.9257,  5.5391],\n",
       "                      [ 1.0981, -2.0564, -1.2517,  ..., -6.0089, -2.9925,  5.7806],\n",
       "                      [-1.0791,  4.3410, -5.3665,  ..., -0.4105,  5.9649, -4.6441]], device='cuda:0')),\n",
       "             ('fcs1.bias',\n",
       "              tensor([ 0.0884,  0.1575, -0.0460,  0.1442, -0.0036, -0.1609, -0.1623,\n",
       "                      -0.0809, -0.0011,  0.1412, -0.0744, -0.0270,  0.1190, -0.0429,\n",
       "                       0.0754, -0.0148, -0.0678, -0.1128,  0.1709, -0.0935,  0.0179,\n",
       "                       0.0605,  0.0323, -0.0141, -0.0336, -0.0733,  0.0602, -0.0508,\n",
       "                       0.0649,  0.0897,  0.0617, -0.0819, -0.1197, -0.0476,  0.0557,\n",
       "                       0.0188,  0.1702,  0.1176, -0.0814,  0.1251, -0.0992, -0.0588,\n",
       "                       0.1290, -0.1280, -0.0484, -0.1431,  0.0808,  0.1247,  0.1530,\n",
       "                      -0.0607, -0.1287,  0.0919, -0.1126, -0.0580, -0.1432,  0.1358,\n",
       "                      -0.0175,  0.0232,  0.0102,  0.0249, -0.0763,  0.1706, -0.1579,\n",
       "                      -0.0228, -0.1014, -0.1185,  0.0935,  0.1278,  0.0824,  0.0521,\n",
       "                       0.1161,  0.0933, -0.0506, -0.0736,  0.0516,  0.1093,  0.1162,\n",
       "                       0.0007,  0.1740, -0.1250,  0.0722,  0.1491,  0.0109,  0.1051,\n",
       "                       0.1530, -0.1348,  0.1132,  0.0807,  0.0915,  0.0874,  0.1041,\n",
       "                       0.0556,  0.0966, -0.1579, -0.1734,  0.0925,  0.1733, -0.0520,\n",
       "                       0.1338, -0.0190,  0.0873, -0.0142,  0.0847, -0.0756, -0.1431,\n",
       "                       0.0930, -0.0731,  0.1299,  0.0235, -0.0710,  0.1675,  0.1663,\n",
       "                      -0.0903,  0.0774,  0.0499, -0.1069,  0.0221, -0.1525,  0.0133,\n",
       "                      -0.1509,  0.1489,  0.0874,  0.1379,  0.0338, -0.0741,  0.0889,\n",
       "                       0.0767,  0.0955, -0.0267,  0.1733, -0.1110, -0.1553,  0.0466,\n",
       "                       0.1573,  0.0269, -0.0500, -0.1485,  0.1169, -0.1712, -0.0718,\n",
       "                       0.0966, -0.0984, -0.1139, -0.0878,  0.0831, -0.0742, -0.0397,\n",
       "                      -0.0419,  0.0945,  0.1529,  0.0109,  0.0008, -0.0178,  0.0829,\n",
       "                       0.1256,  0.0412,  0.1076, -0.0547, -0.0086, -0.1450,  0.0757,\n",
       "                      -0.0896, -0.0267, -0.1703,  0.0149,  0.0548,  0.1053, -0.0383,\n",
       "                       0.0084,  0.1637,  0.0022,  0.1253,  0.1705,  0.1481,  0.0790,\n",
       "                       0.1112,  0.1589, -0.0171,  0.1397, -0.0716, -0.0551,  0.0782,\n",
       "                      -0.1049, -0.0667,  0.0094,  0.0143,  0.0088, -0.0233,  0.0554,\n",
       "                       0.1682, -0.0583,  0.0958,  0.0426,  0.1101,  0.1420, -0.0166,\n",
       "                      -0.0362, -0.0687, -0.0482, -0.0740, -0.0430,  0.1017,  0.0523,\n",
       "                      -0.0821,  0.0985,  0.0156,  0.0069,  0.0672, -0.0975, -0.0184,\n",
       "                       0.1328,  0.1128,  0.0981, -0.0244,  0.0176,  0.1130,  0.0303,\n",
       "                       0.0959,  0.0882,  0.0763,  0.0819, -0.1166, -0.1530, -0.1725,\n",
       "                       0.1364, -0.0968, -0.1369,  0.0223, -0.0335,  0.0553, -0.0455,\n",
       "                       0.1349, -0.1650, -0.1715,  0.1499, -0.0755,  0.0427,  0.0634,\n",
       "                       0.0273, -0.1100,  0.0189, -0.1140,  0.1468,  0.0269,  0.1257,\n",
       "                       0.1230,  0.0741,  0.0615,  0.0982, -0.1110,  0.1314, -0.0374,\n",
       "                       0.1345, -0.0117,  0.0807,  0.1285], device='cuda:0')),\n",
       "             ('fc2.weight', tensor(1.00000e-02 *\n",
       "                     [[-3.0768,  2.8808, -4.6251,  ...,  4.2789,  5.5246, -1.1852],\n",
       "                      [ 3.8456,  5.0825, -1.3998,  ..., -6.2353,  0.3074, -4.7976],\n",
       "                      [-0.2277, -1.4508,  4.9177,  ..., -4.2714, -1.0520, -1.2666],\n",
       "                      ...,\n",
       "                      [ 2.5423,  0.3848, -3.7004,  ...,  2.3884, -0.2260, -5.7672],\n",
       "                      [ 2.2086,  2.1701,  6.0618,  ..., -1.5127,  2.1768, -4.5424],\n",
       "                      [-3.4123, -1.5295,  4.5109,  ..., -5.4773,  4.4591, -3.1081]], device='cuda:0')),\n",
       "             ('fc2.bias', tensor(1.00000e-02 *\n",
       "                     [-1.8444, -5.5690,  0.4826,  4.0845, -2.6042,  2.1098, -3.4927,\n",
       "                      -0.4600,  0.2515, -4.0787,  5.7493, -4.9459, -1.5622, -4.4406,\n",
       "                       4.8151,  3.1246,  5.1394,  4.8624,  4.7677,  2.2037,  5.2798,\n",
       "                       0.8942,  3.5333, -2.0443, -4.8065, -5.5787,  3.9061,  5.4830,\n",
       "                      -3.8592,  0.8004,  1.2939, -1.3880, -2.9044, -2.0100,  3.3053,\n",
       "                       1.6410, -4.1842,  2.5454,  6.0796,  2.0947,  0.3636, -4.8723,\n",
       "                       1.8671,  3.4826, -2.8142, -2.3783, -0.5964, -0.4959,  3.1572,\n",
       "                       4.3238, -1.4814, -3.5188, -6.0926,  3.0349, -4.6389,  4.4511,\n",
       "                      -4.5274, -1.5260,  4.9531,  5.4857, -4.5925, -6.1620,  4.6855,\n",
       "                      -1.6535,  3.6386,  5.4324, -3.4973,  4.0525,  4.3171, -1.9619,\n",
       "                       4.0728, -0.4452, -3.1581,  1.7504,  2.1506, -5.3068,  5.5785,\n",
       "                      -2.2891,  4.5287, -4.1377,  4.4026,  5.7015,  5.6274,  2.2362,\n",
       "                      -1.2944,  5.1322,  5.1459,  1.9007,  4.7949,  5.9702,  4.6169,\n",
       "                      -1.6423, -2.8965, -4.4778,  4.7292,  5.1548, -2.8082,  2.9612,\n",
       "                       1.2625,  2.2789, -3.4091,  5.1578,  2.1043, -4.3298, -2.6464,\n",
       "                       5.4743, -1.3897,  3.6840, -3.8926, -2.8258,  2.8670,  6.1798,\n",
       "                      -2.6820,  3.2919,  1.2257, -6.0991, -3.6901, -5.6157,  6.0941,\n",
       "                       5.9301,  5.7233, -0.6196, -2.2656, -5.3947, -2.8294, -4.8096,\n",
       "                      -2.4606,  4.5409, -4.5572,  5.1685, -5.4266,  4.1897, -1.0344,\n",
       "                       5.8694, -6.0636, -3.7833,  3.5456, -5.6526,  0.8017, -5.0169,\n",
       "                      -0.7727,  0.6633,  4.0084,  1.1562,  3.4423, -4.9966, -6.1187,\n",
       "                      -0.2997,  3.4598, -1.9935, -3.6410, -0.7532, -6.0148, -1.1863,\n",
       "                      -4.0521,  4.2386,  3.9417, -4.6417, -1.9230,  1.9736, -1.0310,\n",
       "                       2.1349, -2.0616, -5.0952, -5.7190,  4.5075, -5.9521, -5.0297,\n",
       "                      -3.1009,  1.4432,  5.9988, -2.6285,  4.1725, -5.7483, -2.4880,\n",
       "                      -5.1820, -2.0975,  1.6496,  2.2916, -5.5136,  5.1081, -4.5829,\n",
       "                       4.2075,  0.2702, -4.1616, -4.5365, -2.7321,  5.3276, -0.2772,\n",
       "                      -3.0685,  5.3108, -0.1176,  2.6869,  5.4281,  5.1697,  0.2860,\n",
       "                      -0.8799, -1.0379, -4.1413,  5.4296,  3.9961, -6.0148, -2.6519,\n",
       "                      -3.8105, -5.4400, -5.7401, -2.7394, -1.1327,  1.5681, -0.4465,\n",
       "                       1.6106,  4.0972, -5.3872, -2.8440, -3.8004, -0.9160,  0.6035,\n",
       "                       0.7467,  2.0248, -5.1528,  1.5011,  0.2500,  5.8717,  1.8537,\n",
       "                       6.2016,  0.5250, -1.4253, -1.5588, -3.5874,  3.7456,  4.0000,\n",
       "                       3.9784,  5.1866,  3.1737, -1.9927, -4.4472,  4.4540,  0.0150,\n",
       "                      -0.4711,  3.5049,  6.1249,  1.7280,  0.5853, -1.6357,  3.9957,\n",
       "                      -0.2143,  5.3698, -5.3604, -0.1715,  5.8829,  2.3525,  3.0841,\n",
       "                      -4.8070, -5.8479,  4.8629,  0.4922], device='cuda:0')),\n",
       "             ('fc3.weight',\n",
       "              tensor([[-2.1261e-02, -1.9971e-02, -4.9934e-02,  ...,  6.0935e-02,\n",
       "                        1.5391e-02, -1.7126e-03],\n",
       "                      [-3.8228e-02,  1.1250e-02,  3.8607e-02,  ..., -5.8238e-02,\n",
       "                       -3.6413e-02,  3.6536e-02],\n",
       "                      [-4.3084e-02, -6.6792e-03, -1.9884e-02,  ...,  1.5942e-02,\n",
       "                        5.8052e-02,  4.1182e-02],\n",
       "                      ...,\n",
       "                      [ 1.7706e-02, -2.6377e-02, -4.2953e-02,  ...,  1.7420e-02,\n",
       "                        5.5092e-02, -5.5364e-02],\n",
       "                      [ 2.9595e-02,  4.4988e-02, -3.7469e-02,  ...,  3.6632e-02,\n",
       "                        2.8335e-02, -4.3922e-02],\n",
       "                      [ 3.8516e-02, -5.2473e-03,  5.4093e-02,  ..., -5.0281e-02,\n",
       "                       -6.9824e-03,  4.7742e-02]], device='cuda:0')),\n",
       "             ('fc3.bias',\n",
       "              tensor([-3.7787e-02, -3.2925e-02,  3.8362e-02, -4.5523e-02, -2.5835e-02,\n",
       "                       3.9330e-02, -5.2212e-02, -7.5695e-03,  7.9338e-03,  4.3620e-02,\n",
       "                       1.8328e-02,  1.2579e-03, -3.0275e-02, -6.0956e-02,  4.1302e-02,\n",
       "                       4.4852e-02, -8.5165e-03, -3.5980e-02, -4.2249e-02, -3.4318e-02,\n",
       "                      -2.5271e-02,  5.6777e-02, -4.6945e-03,  5.0284e-02,  4.5895e-02,\n",
       "                      -2.8321e-02,  4.4386e-02, -4.0762e-02, -4.8352e-02,  3.1640e-02,\n",
       "                      -5.2994e-02,  5.5910e-02,  1.9061e-02, -1.3368e-02,  2.4389e-02,\n",
       "                      -1.1634e-02,  1.2699e-02,  7.0076e-03, -3.1204e-02, -6.9614e-03,\n",
       "                       3.4744e-02, -2.0255e-03,  7.7736e-03,  1.5100e-02,  2.6101e-02,\n",
       "                      -5.9356e-03,  5.8110e-02,  3.5626e-02, -3.7656e-02,  1.2040e-02,\n",
       "                       2.4922e-02,  2.4391e-02,  4.0390e-02, -8.3977e-03, -1.0871e-02,\n",
       "                       4.7764e-02, -2.2380e-02,  5.2446e-02,  3.8099e-02, -6.1455e-02,\n",
       "                      -8.2087e-03,  3.8859e-02,  4.6662e-02, -2.2079e-02,  6.5618e-03,\n",
       "                       2.8177e-02,  5.4209e-02,  1.7578e-02, -1.1189e-02, -4.0031e-02,\n",
       "                      -1.4655e-02, -3.6231e-02,  2.1630e-02,  3.4161e-02,  7.4133e-04,\n",
       "                      -2.6292e-02, -1.4138e-02,  2.7050e-02,  4.0233e-07, -4.9193e-02,\n",
       "                       5.5008e-02,  5.4521e-02,  2.4054e-02, -8.0014e-03, -1.0671e-02,\n",
       "                       1.2149e-02,  8.2704e-03, -1.3403e-04,  7.3761e-03,  4.1299e-02,\n",
       "                      -1.3965e-02,  8.4570e-03,  2.1587e-02, -1.9773e-02, -3.8229e-02,\n",
       "                       4.2968e-02,  2.5978e-02,  2.4873e-02,  4.6101e-02, -1.8907e-02,\n",
       "                      -2.3316e-03,  2.6595e-02,  2.4284e-03,  4.0829e-02, -4.6886e-02,\n",
       "                      -1.2472e-02, -2.2023e-02,  1.6360e-02, -5.2729e-02, -7.6027e-03,\n",
       "                       2.4826e-02, -5.2459e-02, -2.8443e-02, -2.9828e-03, -3.7054e-02,\n",
       "                       5.9622e-02, -2.0423e-02,  2.3210e-02, -5.4595e-02, -2.9640e-03,\n",
       "                      -4.1126e-03,  4.5457e-02,  3.5884e-02,  2.2377e-02, -1.7356e-02,\n",
       "                      -1.6121e-02, -6.1409e-03, -4.4533e-02,  3.2775e-02, -3.8432e-02,\n",
       "                       5.9463e-02,  5.8655e-02, -2.9344e-02, -4.6270e-02,  2.3423e-02,\n",
       "                      -4.8297e-02,  4.5025e-02,  2.5493e-02,  1.9612e-02, -3.3182e-02,\n",
       "                      -3.8376e-02, -3.4558e-02, -3.8765e-02,  1.1819e-02,  1.4909e-02,\n",
       "                       5.2201e-02, -5.0015e-02,  3.1374e-02, -4.3178e-02,  2.2772e-02,\n",
       "                      -9.3900e-03,  2.3846e-02,  5.8490e-02, -2.4350e-02, -1.2784e-02,\n",
       "                      -4.2521e-02, -2.6461e-02,  1.3056e-03, -2.1892e-02, -5.7984e-02,\n",
       "                      -2.9068e-02, -6.1027e-02, -1.4447e-02,  6.0576e-02, -2.6622e-02,\n",
       "                      -9.4660e-03,  5.5706e-02, -4.3749e-02, -2.5587e-02,  5.5514e-02,\n",
       "                      -1.4102e-02, -5.0846e-02, -2.6192e-02, -2.0389e-02,  2.1581e-02,\n",
       "                      -1.6214e-02,  3.4151e-02,  6.0921e-02,  3.3473e-02,  1.1225e-02,\n",
       "                       2.3834e-03,  4.8775e-02,  3.2385e-03,  2.0362e-02,  5.4065e-03,\n",
       "                      -9.8672e-03,  4.9164e-02, -4.7926e-02,  4.6156e-05, -3.2970e-02,\n",
       "                      -1.1850e-02,  3.1591e-03, -5.9656e-02,  3.2737e-03, -3.9677e-02,\n",
       "                      -2.2014e-02, -2.8145e-03,  2.7811e-02, -5.1481e-02, -5.5528e-02,\n",
       "                      -5.8789e-02, -2.7118e-02,  3.8778e-02,  5.4569e-02,  2.2115e-02,\n",
       "                      -3.4644e-02, -5.4335e-02,  3.2466e-02,  1.6841e-02, -3.5413e-02,\n",
       "                       1.1867e-02,  5.1146e-02, -4.0192e-02,  8.9383e-03,  5.4048e-02,\n",
       "                       5.9491e-02,  3.2638e-02,  6.1326e-02, -4.4222e-02,  2.7122e-02,\n",
       "                      -1.8134e-02, -3.4347e-02, -5.7832e-02,  5.0648e-02,  3.6099e-02,\n",
       "                       3.9854e-02, -5.2101e-02,  7.9923e-03,  1.9685e-02,  4.2447e-02,\n",
       "                      -2.1906e-03,  1.7053e-02, -2.7847e-02, -4.9152e-02,  2.0245e-02,\n",
       "                       6.1151e-03, -6.1458e-02, -5.9628e-02,  4.0934e-02,  2.5551e-02,\n",
       "                      -1.5267e-02,  1.7810e-02,  5.7994e-02,  1.1030e-02, -1.6408e-03,\n",
       "                       4.8336e-03,  3.8527e-03, -6.0446e-02,  6.0907e-02,  3.3828e-02,\n",
       "                      -2.5720e-02,  1.1657e-02,  5.5823e-02,  1.3884e-02,  4.1608e-02,\n",
       "                       4.7066e-02], device='cuda:0')),\n",
       "             ('fc4.weight', tensor(1.00000e-03 *\n",
       "                     [[ 2.1982, -2.9167, -1.3053,  2.7619, -2.9024, -1.1467,  0.0629,\n",
       "                       -1.8666,  2.4565,  2.4215,  2.6142,  0.0358, -0.9183,  2.3655,\n",
       "                        1.2159,  2.1551,  1.9588, -1.4978, -1.1542, -1.6415,  2.0049,\n",
       "                       -0.1050, -1.2583, -2.4346, -0.7898,  0.6026, -1.1147, -1.8437,\n",
       "                        0.6840, -1.7520, -2.8576,  1.8533,  2.6162,  2.5054,  1.0471,\n",
       "                        0.1155, -0.5639, -1.2792, -2.2029, -0.5585,  1.8896,  1.8045,\n",
       "                        1.7267, -1.8378,  0.8945,  0.9155,  2.9840, -0.1999,  1.3659,\n",
       "                        1.7846,  2.7010, -1.5022,  2.2662,  1.0024,  1.5226,  2.5201,\n",
       "                        2.9098, -2.5508,  1.8638, -0.5295,  2.2973, -1.1353, -2.9619,\n",
       "                       -2.7963,  2.1313, -0.1725,  0.7559,  2.4788,  0.7227,  2.4680,\n",
       "                       -2.7640, -0.4925, -1.9447, -0.1482, -1.0618, -0.5168, -2.2439,\n",
       "                       -0.8504, -0.7847, -0.0209, -2.8832,  2.5516,  1.0574, -0.7458,\n",
       "                        0.6946, -0.2911, -0.2853,  1.8822,  0.4138,  1.2734, -0.7039,\n",
       "                        2.9847,  0.0499,  2.5567,  2.4148,  2.2616,  1.6223,  1.6805,\n",
       "                       -2.0033, -2.4950,  1.6799,  1.9399,  0.3387,  0.9708,  0.1457,\n",
       "                       -2.7662,  1.3535,  1.3223,  0.4572, -2.4561, -0.5441,  1.8320,\n",
       "                        2.6575, -0.4141,  1.2209, -0.6433, -2.1681, -1.0815, -2.9942,\n",
       "                        1.3859,  2.1857,  0.2172,  1.6293, -0.4977, -2.1782, -2.1455,\n",
       "                       -1.6776, -0.8923, -2.5527,  1.6076, -1.6601,  0.5127, -1.9143,\n",
       "                       -2.1230,  0.8317,  1.7866, -2.8772,  0.5774, -2.8821, -0.5507,\n",
       "                        2.8836,  2.6275, -2.4485,  2.1624,  2.3492, -0.0319,  2.0082,\n",
       "                        1.0917, -0.7804, -2.8446,  0.7238, -2.4565, -0.1284, -1.2273,\n",
       "                       -2.0005, -0.6790,  2.5393,  0.9246,  2.7323,  1.2561,  1.1787,\n",
       "                       -0.3041, -2.2551,  0.6230, -1.5690, -0.0223,  1.4753,  0.3917,\n",
       "                        1.1918, -2.5093,  2.1164,  2.0852, -2.8491,  1.6639, -1.2118,\n",
       "                       -0.5976, -0.8733,  1.4558,  2.7064,  0.0943, -0.9237,  1.8708,\n",
       "                        1.4349, -2.5488,  1.6557, -2.6461, -1.9200, -0.4327, -1.1199,\n",
       "                        0.4437, -1.5265,  2.8967, -1.2563,  1.4428, -1.4738,  2.3312,\n",
       "                        0.3511, -2.2984,  0.3219, -2.9772,  0.3746,  0.7052, -1.6246,\n",
       "                       -1.1781,  1.1359,  2.1194, -1.3767, -1.7735,  2.2664, -2.1151,\n",
       "                       -0.8774, -0.0235,  1.5853, -1.0920,  1.0224,  2.8666,  1.1406,\n",
       "                       -2.8840,  0.5946, -2.2821,  2.8978, -1.2693, -0.0411, -2.5574,\n",
       "                       -2.5171,  0.7386,  0.2426,  1.2746,  0.9116, -2.5332, -2.2093,\n",
       "                       -0.9726,  2.1784,  0.3441, -1.3632,  2.2307,  1.9033,  0.3896,\n",
       "                       -2.0342,  0.6235, -1.2251, -1.2854, -0.3205,  1.7761,  0.5685,\n",
       "                       -2.2047,  1.5731, -2.9231, -0.7448, -2.7202, -1.6576,  1.0973,\n",
       "                        2.3434, -0.0393,  2.6380, -2.1342]], device='cuda:0')),\n",
       "             ('fc4.bias', tensor(1.00000e-02 *\n",
       "                     [-1.1487], device='cuda:0'))])"
      ]
     },
     "execution_count": 7,
     "metadata": {},
     "output_type": "execute_result"
    }
   ],
   "source": [
    "agent.actor_local.load_state_dict(torch.load('actor.pth')) # I already trained it for few episodes before the workspace went idle\n",
    "agent.critic_local.state_dict(torch.load('critic.pth'))  "
   ]
  },
  {
   "cell_type": "code",
   "execution_count": 9,
   "metadata": {},
   "outputs": [
    {
     "name": "stdout",
     "output_type": "stream",
     "text": [
      "\n",
      "Episode 1\tAverage Score: 3.293\n",
      "Episode 2\tAverage Score: 2.589\n",
      "Episode 3\tAverage Score: 2.279\n",
      "Episode 4\tAverage Score: 2.048\n",
      "Episode 5\tAverage Score: 1.974\n",
      "Episode 6\tAverage Score: 2.011\n",
      "Episode 7\tAverage Score: 2.093\n",
      "Episode 8\tAverage Score: 2.187\n",
      "Episode 9\tAverage Score: 2.369\n",
      "Episode 10\tAverage Score: 2.452\n",
      "Episode 11\tAverage Score: 2.848\n",
      "Episode 12\tAverage Score: 3.815\n",
      "Episode 13\tAverage Score: 4.836\n",
      "Episode 14\tAverage Score: 6.167\n",
      "Episode 15\tAverage Score: 7.443\n",
      "Episode 16\tAverage Score: 8.617\n",
      "Episode 17\tAverage Score: 9.982\n",
      "Episode 18\tAverage Score: 11.404\n",
      "Episode 19\tAverage Score: 12.763\n",
      "Episode 20\tAverage Score: 13.998\n",
      "Episode 21\tAverage Score: 15.167\n",
      "Episode 22\tAverage Score: 16.230\n",
      "Episode 23\tAverage Score: 17.222\n",
      "Episode 24\tAverage Score: 18.143\n",
      "Episode 25\tAverage Score: 18.981\n",
      "Episode 26\tAverage Score: 19.765\n",
      "Episode 27\tAverage Score: 20.483\n",
      "Episode 28\tAverage Score: 21.136\n",
      "Episode 29\tAverage Score: 21.753\n",
      "Episode 30\tAverage Score: 22.319\n",
      "Episode 31\tAverage Score: 22.840\n",
      "Episode 32\tAverage Score: 23.352\n",
      "Episode 33\tAverage Score: 23.837\n",
      "Episode 34\tAverage Score: 24.288\n",
      "Episode 35\tAverage Score: 24.720\n",
      "Episode 36\tAverage Score: 25.120\n",
      "Episode 37\tAverage Score: 25.506\n",
      "Episode 38\tAverage Score: 25.867\n",
      "Episode 39\tAverage Score: 26.204\n",
      "Episode 40\tAverage Score: 26.531\n",
      "Episode 41\tAverage Score: 26.830\n",
      "Episode 42\tAverage Score: 27.118\n",
      "Episode 43\tAverage Score: 27.394\n",
      "Episode 44\tAverage Score: 27.662\n",
      "Episode 45\tAverage Score: 27.923\n",
      "Episode 46\tAverage Score: 28.151\n",
      "Episode 47\tAverage Score: 28.387\n",
      "Episode 48\tAverage Score: 28.609\n",
      "Episode 49\tAverage Score: 28.824\n",
      "Episode 50\tAverage Score: 29.029\n",
      "Episode 51\tAverage Score: 29.221\n",
      "Episode 52\tAverage Score: 29.392\n",
      "Episode 53\tAverage Score: 29.570\n",
      "Episode 54\tAverage Score: 29.737\n",
      "Episode 55\tAverage Score: 29.902\n",
      "Episode 56\tAverage Score: 30.065\n",
      "Environment solved in 56 episodes wakanda forever :)\n"
     ]
    }
   ],
   "source": [
    "avg_scores = train()"
   ]
  },
  {
   "cell_type": "code",
   "execution_count": 12,
   "metadata": {},
   "outputs": [
    {
     "data": {
      "image/png": "[encoded data removed]",
      "text/plain": [
       "<matplotlib.figure.Figure at 0x7f0fa8bfc5f8>"
      ]
     },
     "metadata": {
      "needs_background": "light"
     },
     "output_type": "display_data"
    }
   ],
   "source": [
    "import matplotlib.pyplot as plt\n",
    "fig = plt.figure()\n",
    "ax = fig.add_subplot(111)\n",
    "plt.plot(np.arange(1, len(scores)+1), scores)\n",
    "plt.ylabel('Scores')\n",
    "plt.xlabel('Episode')\n",
    "plt.show() "
   ]
  },
  {
   "cell_type": "code",
   "execution_count": null,
   "metadata": {},
   "outputs": [],
   "source": []
  }
 ],
 "metadata": {
  "kernelspec": {
   "display_name": "Python 3",
   "language": "python",
   "name": "python3"
  },
  "language_info": {
   "codemirror_mode": {
    "name": "ipython",
    "version": 3
   },
   "file_extension": ".py",
   "mimetype": "text/x-python",
   "name": "python",
   "nbconvert_exporter": "python",
   "pygments_lexer": "ipython3",
   "version": "3.6.3"
  }
 },
 "nbformat": 4,
 "nbformat_minor": 2
}
